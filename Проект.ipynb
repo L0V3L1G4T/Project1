{
 "cells": [
  {
   "cell_type": "code",
   "execution_count": 4,
   "metadata": {},
   "outputs": [
    {
     "name": "stderr",
     "output_type": "stream",
     "text": [
      "C:\\Users\\serge\\AppData\\Local\\Temp\\ipykernel_1316\\3913555505.py:2: DeprecationWarning: \n",
      "Pyarrow will become a required dependency of pandas in the next major release of pandas (pandas 3.0),\n",
      "(to allow more performant data types, such as the Arrow string type, and better interoperability with other libraries)\n",
      "but was not found to be installed on your system.\n",
      "If this would cause problems for you,\n",
      "please provide us feedback at https://github.com/pandas-dev/pandas/issues/54466\n",
      "        \n",
      "  import pandas as pd\n"
     ]
    }
   ],
   "source": [
    "import matplotlib.pyplot as plt\n",
    "import pandas as pd\n",
    "import numpy as np\n",
    "import os\n",
    "import seaborn as sns\n",
    "import plotly.graph_objs as go\n",
    "import plotly.express as px"
   ]
  },
  {
   "cell_type": "code",
   "execution_count": 23,
   "metadata": {},
   "outputs": [
    {
     "data": {
      "text/plain": [
       "44413"
      ]
     },
     "metadata": {},
     "output_type": "display_data"
    },
    {
     "data": {
      "text/plain": [
       "Ищет работу на должность:\n",
       "Системный администратор                                                  0.069261\n",
       "Инженер                                                                  0.021589\n",
       "Аналитик                                                                 0.018081\n",
       "Менеджер проектов                                                        0.016650\n",
       "Руководитель проекта                                                     0.016047\n",
       "                                                                           ...   \n",
       "Системный администратор Linux, DevOps, Разработчик Golang                0.000022\n",
       "Инженер КИПиА,инженер АСУТП ,видеоинженер                                0.000022\n",
       "SEO-специалист | Специалист по интернет-рекламе | Интернет-маркетолог    0.000022\n",
       "Специалист технических систем безопастности                              0.000022\n",
       "Аналитик данных, Математик                                               0.000022\n",
       "Name: proportion, Length: 14929, dtype: float64"
      ]
     },
     "metadata": {},
     "output_type": "display_data"
    }
   ],
   "source": [
    "hh_data=pd.read_csv('data/dst-3.0_16_1_hh_database.csv',sep=';')\n",
    "display(hh_data['Опыт работы'].nunique())\n",
    "display(hh_data['Ищет работу на должность:'].value_counts(normalize=True))"
   ]
  },
  {
   "cell_type": "code",
   "execution_count": 24,
   "metadata": {},
   "outputs": [],
   "source": [
    "def education(x):\n",
    "    arg = ' '.join(x.split(' ')[:3])\n",
    "    if \"Высшее образование\" in arg:\n",
    "        return \"высшее\"\n",
    "    if \"Неоконченное высшее\" in arg:\n",
    "        return \"неоконченное высшее\"\n",
    "    if \"Среднее специальное образование\" in arg:\n",
    "        return \"среднее специальное\"\n",
    "    if \"Среднее образование\" in arg:\n",
    "        return \"среднее\"\n",
    "hh_data['Образование']=hh_data['Образование и ВУЗ'].apply(education)\n",
    "hh_data['Образование']=hh_data['Образование'].astype(\"category\")"
   ]
  },
  {
   "cell_type": "code",
   "execution_count": 25,
   "metadata": {},
   "outputs": [
    {
     "data": {
      "text/plain": [
       "Пол\n",
       "М    36211\n",
       "Ж     8533\n",
       "Name: count, dtype: int64"
      ]
     },
     "metadata": {},
     "output_type": "display_data"
    }
   ],
   "source": [
    "def gender(arg):\n",
    "    if \"Мужчина\" in arg:\n",
    "        return 'М'\n",
    "    if \"Женщина\" in arg:\n",
    "        return 'Ж'\n",
    "hh_data['Пол']=hh_data['Пол, возраст'].apply(gender)\n",
    "hh_data['Пол']=hh_data['Пол'].astype('category')\n",
    "display(hh_data['Пол'].value_counts())"
   ]
  },
  {
   "cell_type": "code",
   "execution_count": 26,
   "metadata": {},
   "outputs": [
    {
     "data": {
      "text/plain": [
       "32.19674146254246"
      ]
     },
     "metadata": {},
     "output_type": "display_data"
    }
   ],
   "source": [
    "def age(x):\n",
    "    arg=x.split(',')[1].split(' ')[2]\n",
    "    return int(arg)\n",
    "hh_data['Возраст']=hh_data['Пол, возраст'].apply(age)\n",
    "display(hh_data['Возраст'].mean())"
   ]
  },
  {
   "cell_type": "code",
   "execution_count": 27,
   "metadata": {},
   "outputs": [
    {
     "data": {
      "text/plain": [
       "100.0"
      ]
     },
     "metadata": {},
     "output_type": "display_data"
    }
   ],
   "source": [
    "def experience(x):\n",
    "    if type(x)==float:\n",
    "        return np.nan\n",
    "    if x=='Не указано':\n",
    "        return np.nan\n",
    "    arg=x.split('  ')[0].split(' ')[2:]\n",
    "    if len(arg)==4:\n",
    "        return int(arg[0])*12+int(arg[2])\n",
    "    if len(arg)==2:\n",
    "        if 'м' in arg[1]:\n",
    "            return int(arg[0])\n",
    "        else:\n",
    "            return int(arg[0])*12\n",
    "hh_data['Опыт работы (месяц)']=hh_data['Опыт работы'].apply(experience)\n",
    "display(hh_data['Опыт работы (месяц)'].median())"
   ]
  },
  {
   "cell_type": "code",
   "execution_count": 28,
   "metadata": {},
   "outputs": [
    {
     "data": {
      "text/plain": [
       "Город\n",
       "Москва              0.371469\n",
       "другие              0.354327\n",
       "город-миллионник    0.163866\n",
       "Санкт-Петербург     0.110339\n",
       "Name: proportion, dtype: float64"
      ]
     },
     "metadata": {},
     "output_type": "display_data"
    }
   ],
   "source": [
    "million_cities = ['Новосибирск ', 'Екатеринбург ', 'Нижний Новгород ', 'Казань ', 'Челябинск ', 'Омск ', 'Самара ', 'Ростов-на-Дону ', 'Уфа ', 'Красноярск ', 'Пермь ', 'Воронеж ', 'Волгоград ' ]\n",
    "def citi(x):\n",
    "    arg=x.split(',')[0]\n",
    "    if arg==\"Москва \":\n",
    "        return 'Москва'\n",
    "    elif arg==\"Санкт-Петербург \":\n",
    "        return 'Санкт-Петербург'\n",
    "    elif arg in million_cities:\n",
    "        return \"город-миллионник\"\n",
    "    else:\n",
    "        return 'другие'\n",
    "hh_data['Город']=hh_data['Город, переезд, командировки'].apply(citi)\n",
    "hh_data['Город']=hh_data['Город'].astype('category')\n",
    "display(hh_data['Город'].value_counts(normalize=True))"
   ]
  },
  {
   "cell_type": "code",
   "execution_count": 29,
   "metadata": {},
   "outputs": [
    {
     "data": {
      "text/plain": [
       "Готовность к переезду\n",
       "False    28719\n",
       "True     16025\n",
       "Name: count, dtype: int64"
      ]
     },
     "metadata": {},
     "output_type": "display_data"
    }
   ],
   "source": [
    "def moving(x):\n",
    "    if 'не готов к переезду' in x or 'не готова к переезду' in x:\n",
    "        return False\n",
    "    else:\n",
    "        return True\n",
    "hh_data['Готовность к переезду']=hh_data['Город, переезд, командировки'].apply(moving)\n",
    "display(hh_data['Готовность к переезду'].value_counts())"
   ]
  },
  {
   "cell_type": "code",
   "execution_count": 30,
   "metadata": {},
   "outputs": [
    {
     "data": {
      "text/plain": [
       "Готовность к командировкам\n",
       "True     31640\n",
       "False    13104\n",
       "Name: count, dtype: int64"
      ]
     },
     "metadata": {},
     "output_type": "display_data"
    }
   ],
   "source": [
    "def business_trip(x):\n",
    "    arg=x.split(' , ')[-1]\n",
    "    if 'командировкам' in arg:\n",
    "        if 'не' in arg:\n",
    "            return False\n",
    "        else:\n",
    "            return True\n",
    "    else:\n",
    "        return False\n",
    "hh_data['Готовность к командировкам']=hh_data['Город, переезд, командировки'].apply(business_trip)\n",
    "display(hh_data['Готовность к командировкам'].value_counts())"
   ]
  },
  {
   "cell_type": "code",
   "execution_count": 31,
   "metadata": {},
   "outputs": [
    {
     "data": {
      "text/plain": [
       "0.3186572501340962"
      ]
     },
     "metadata": {},
     "output_type": "display_data"
    }
   ],
   "source": [
    "mask1=hh_data['Готовность к переезду']==True\n",
    "mask2=hh_data['Готовность к командировкам']==True\n",
    "answer=hh_data[mask1 & mask2]\n",
    "display(answer.shape[0]/hh_data.shape[0])"
   ]
  },
  {
   "cell_type": "code",
   "execution_count": 32,
   "metadata": {},
   "outputs": [],
   "source": [
    "hh_data['полная занятость']=hh_data['Занятость'].apply(lambda x: True if 'полная занятость' in x else False)\n",
    "hh_data['частичная занятость']=hh_data['Занятость'].apply(lambda x: True if 'частичная занятость' in x else False)\n",
    "hh_data['проектная работа']=hh_data['Занятость'].apply(lambda x: True if 'проектная работа' in x else False)\n",
    "hh_data['волонтёрство']=hh_data['Занятость'].apply(lambda x: True if 'волонтерство' in x else False)\n",
    "hh_data['стажировка']=hh_data['Занятость'].apply(lambda x: True if 'стажировка' in x else False)"
   ]
  },
  {
   "cell_type": "code",
   "execution_count": 33,
   "metadata": {},
   "outputs": [],
   "source": [
    "hh_data['полный день']=hh_data['График'].apply(lambda x: True if 'полный день' in x else False)\n",
    "hh_data['сменный график']=hh_data['График'].apply(lambda x: True if 'сменный график' in x else False)\n",
    "hh_data['гибкий график']=hh_data['График'].apply(lambda x: True if 'гибкий график' in x else False)\n",
    "hh_data['удалённая работа']=hh_data['График'].apply(lambda x: True if 'удалённая работа' in x else False)\n",
    "hh_data['вахтовый метод']=hh_data['График'].apply(lambda x: True if 'вахтовый метод' in x else False)"
   ]
  },
  {
   "cell_type": "code",
   "execution_count": 34,
   "metadata": {},
   "outputs": [
    {
     "data": {
      "text/plain": [
       "436"
      ]
     },
     "metadata": {},
     "output_type": "display_data"
    },
    {
     "data": {
      "text/plain": [
       "2311"
      ]
     },
     "metadata": {},
     "output_type": "display_data"
    }
   ],
   "source": [
    "mask3=hh_data['проектная работа']==True\n",
    "mask4=hh_data['волонтёрство']==True\n",
    "display(hh_data[mask3 & mask4].shape[0])\n",
    "mask5=hh_data['вахтовый метод']==True\n",
    "mask6=hh_data['гибкий график']==True\n",
    "display(hh_data[mask6 & mask5].shape[0])"
   ]
  },
  {
   "cell_type": "code",
   "execution_count": 35,
   "metadata": {},
   "outputs": [
    {
     "data": {
      "text/html": [
       "<div>\n",
       "<style scoped>\n",
       "    .dataframe tbody tr th:only-of-type {\n",
       "        vertical-align: middle;\n",
       "    }\n",
       "\n",
       "    .dataframe tbody tr th {\n",
       "        vertical-align: top;\n",
       "    }\n",
       "\n",
       "    .dataframe thead th {\n",
       "        text-align: right;\n",
       "    }\n",
       "</style>\n",
       "<table border=\"1\" class=\"dataframe\">\n",
       "  <thead>\n",
       "    <tr style=\"text-align: right;\">\n",
       "      <th></th>\n",
       "      <th>currency</th>\n",
       "      <th>per</th>\n",
       "      <th>date</th>\n",
       "      <th>time</th>\n",
       "      <th>close</th>\n",
       "      <th>vol</th>\n",
       "      <th>proportion</th>\n",
       "    </tr>\n",
       "  </thead>\n",
       "  <tbody>\n",
       "    <tr>\n",
       "      <th>0</th>\n",
       "      <td>USD</td>\n",
       "      <td>D</td>\n",
       "      <td>29/12/17</td>\n",
       "      <td>00:00</td>\n",
       "      <td>57.6291</td>\n",
       "      <td>0</td>\n",
       "      <td>1</td>\n",
       "    </tr>\n",
       "    <tr>\n",
       "      <th>1</th>\n",
       "      <td>USD</td>\n",
       "      <td>D</td>\n",
       "      <td>30/12/17</td>\n",
       "      <td>00:00</td>\n",
       "      <td>57.6002</td>\n",
       "      <td>0</td>\n",
       "      <td>1</td>\n",
       "    </tr>\n",
       "    <tr>\n",
       "      <th>2</th>\n",
       "      <td>USD</td>\n",
       "      <td>D</td>\n",
       "      <td>31/12/17</td>\n",
       "      <td>00:00</td>\n",
       "      <td>57.6002</td>\n",
       "      <td>0</td>\n",
       "      <td>1</td>\n",
       "    </tr>\n",
       "    <tr>\n",
       "      <th>3</th>\n",
       "      <td>USD</td>\n",
       "      <td>D</td>\n",
       "      <td>01/01/18</td>\n",
       "      <td>00:00</td>\n",
       "      <td>57.6002</td>\n",
       "      <td>0</td>\n",
       "      <td>1</td>\n",
       "    </tr>\n",
       "    <tr>\n",
       "      <th>4</th>\n",
       "      <td>USD</td>\n",
       "      <td>D</td>\n",
       "      <td>02/01/18</td>\n",
       "      <td>00:00</td>\n",
       "      <td>57.6002</td>\n",
       "      <td>0</td>\n",
       "      <td>1</td>\n",
       "    </tr>\n",
       "    <tr>\n",
       "      <th>...</th>\n",
       "      <td>...</td>\n",
       "      <td>...</td>\n",
       "      <td>...</td>\n",
       "      <td>...</td>\n",
       "      <td>...</td>\n",
       "      <td>...</td>\n",
       "      <td>...</td>\n",
       "    </tr>\n",
       "    <tr>\n",
       "      <th>5659</th>\n",
       "      <td>AZN</td>\n",
       "      <td>D</td>\n",
       "      <td>02/12/19</td>\n",
       "      <td>00:00</td>\n",
       "      <td>37.7729</td>\n",
       "      <td>0</td>\n",
       "      <td>1</td>\n",
       "    </tr>\n",
       "    <tr>\n",
       "      <th>5660</th>\n",
       "      <td>AZN</td>\n",
       "      <td>D</td>\n",
       "      <td>03/12/19</td>\n",
       "      <td>00:00</td>\n",
       "      <td>37.9662</td>\n",
       "      <td>0</td>\n",
       "      <td>1</td>\n",
       "    </tr>\n",
       "    <tr>\n",
       "      <th>5661</th>\n",
       "      <td>AZN</td>\n",
       "      <td>D</td>\n",
       "      <td>04/12/19</td>\n",
       "      <td>00:00</td>\n",
       "      <td>37.8073</td>\n",
       "      <td>0</td>\n",
       "      <td>1</td>\n",
       "    </tr>\n",
       "    <tr>\n",
       "      <th>5662</th>\n",
       "      <td>AZN</td>\n",
       "      <td>D</td>\n",
       "      <td>05/12/19</td>\n",
       "      <td>00:00</td>\n",
       "      <td>37.8396</td>\n",
       "      <td>0</td>\n",
       "      <td>1</td>\n",
       "    </tr>\n",
       "    <tr>\n",
       "      <th>5663</th>\n",
       "      <td>AZN</td>\n",
       "      <td>D</td>\n",
       "      <td>06/12/19</td>\n",
       "      <td>00:00</td>\n",
       "      <td>37.6148</td>\n",
       "      <td>0</td>\n",
       "      <td>1</td>\n",
       "    </tr>\n",
       "  </tbody>\n",
       "</table>\n",
       "<p>5664 rows × 7 columns</p>\n",
       "</div>"
      ],
      "text/plain": [
       "     currency per      date   time    close  vol  proportion\n",
       "0         USD   D  29/12/17  00:00  57.6291    0           1\n",
       "1         USD   D  30/12/17  00:00  57.6002    0           1\n",
       "2         USD   D  31/12/17  00:00  57.6002    0           1\n",
       "3         USD   D  01/01/18  00:00  57.6002    0           1\n",
       "4         USD   D  02/01/18  00:00  57.6002    0           1\n",
       "...       ...  ..       ...    ...      ...  ...         ...\n",
       "5659      AZN   D  02/12/19  00:00  37.7729    0           1\n",
       "5660      AZN   D  03/12/19  00:00  37.9662    0           1\n",
       "5661      AZN   D  04/12/19  00:00  37.8073    0           1\n",
       "5662      AZN   D  05/12/19  00:00  37.8396    0           1\n",
       "5663      AZN   D  06/12/19  00:00  37.6148    0           1\n",
       "\n",
       "[5664 rows x 7 columns]"
      ]
     },
     "metadata": {},
     "output_type": "display_data"
    }
   ],
   "source": [
    "exchange_rates_data=pd.read_csv('data/ExchangeRates.csv')\n",
    "display(exchange_rates_data)"
   ]
  },
  {
   "cell_type": "code",
   "execution_count": 36,
   "metadata": {},
   "outputs": [
    {
     "name": "stderr",
     "output_type": "stream",
     "text": [
      "C:\\Users\\serge\\AppData\\Local\\Temp\\ipykernel_18112\\4225424429.py:1: UserWarning: Parsing dates in %d.%m.%Y %H:%M format when dayfirst=False (the default) was specified. Pass `dayfirst=True` or specify a format to silence this warning.\n",
      "  hh_data['Обновление резюме']=pd.to_datetime(hh_data['Обновление резюме']).dt.date\n",
      "C:\\Users\\serge\\AppData\\Local\\Temp\\ipykernel_18112\\4225424429.py:3: UserWarning: Could not infer format, so each element will be parsed individually, falling back to `dateutil`. To ensure parsing is consistent and as-expected, please specify a format.\n",
      "  exchange_rates_data['date']=pd.to_datetime(exchange_rates_data['date'])\n"
     ]
    }
   ],
   "source": [
    "hh_data['Обновление резюме']=pd.to_datetime(hh_data['Обновление резюме']).dt.date\n",
    "hh_data['Обновление резюме']=pd.to_datetime(hh_data['Обновление резюме'])\n",
    "exchange_rates_data['date']=pd.to_datetime(exchange_rates_data['date'])\n",
    "hh_data['Сумма ЗП']=hh_data['ЗП'].apply(lambda x: int(x.split(' ')[0]))\n",
    "def valutes(x):\n",
    "    arg=x.split(' ')[1]\n",
    "    if arg==\"грн.\":\n",
    "        return 'UAH'\n",
    "    if arg==\"USD\":\n",
    "        return 'USD'\n",
    "    if arg==\"EUR\":\n",
    "        return 'EUR'\n",
    "    if arg==\"бел.руб.\":\n",
    "        return 'BYN'\n",
    "    if arg==\"KGS\":\n",
    "        return 'KGS'\n",
    "    if arg==\"сум\":\n",
    "        return 'UZS'\n",
    "    if arg==\"AZN\":\n",
    "        return 'AZN'\n",
    "    if arg==\"KZT\":\n",
    "        return 'KZT'\n",
    "    if arg==\"руб.\":\n",
    "        return 'RUB'\n",
    "hh_data['Валюта ЗП']=hh_data['ЗП'].apply(valutes)"
   ]
  },
  {
   "cell_type": "code",
   "execution_count": 37,
   "metadata": {},
   "outputs": [
    {
     "data": {
      "text/plain": [
       "59000.0"
      ]
     },
     "metadata": {},
     "output_type": "display_data"
    }
   ],
   "source": [
    "hh_data_merge=pd.merge(hh_data,exchange_rates_data,how='left',left_on=['Валюта ЗП','Обновление резюме'],right_on=['currency','date'])\n",
    "hh_data_merge['close']=hh_data_merge['close'].fillna(1)\n",
    "hh_data_merge['proportion']=hh_data_merge['proportion'].fillna(1)\n",
    "hh_data_merge['ЗП (руб)']=hh_data_merge['Сумма ЗП']*hh_data_merge['close']/hh_data_merge['proportion']\n",
    "display(hh_data_merge['ЗП (руб)'].median())"
   ]
  },
  {
   "cell_type": "code",
   "execution_count": 38,
   "metadata": {},
   "outputs": [],
   "source": [
    "data_project=hh_data_merge"
   ]
  },
  {
   "cell_type": "code",
   "execution_count": 39,
   "metadata": {},
   "outputs": [
    {
     "name": "stdout",
     "output_type": "stream",
     "text": [
      "<class 'pandas.core.frame.DataFrame'>\n",
      "RangeIndex: 44744 entries, 0 to 44743\n",
      "Data columns (total 39 columns):\n",
      " #   Column                           Non-Null Count  Dtype         \n",
      "---  ------                           --------------  -----         \n",
      " 0   Пол, возраст                     44744 non-null  object        \n",
      " 1   ЗП                               44744 non-null  object        \n",
      " 2   Ищет работу на должность:        44744 non-null  object        \n",
      " 3   Город, переезд, командировки     44744 non-null  object        \n",
      " 4   Занятость                        44744 non-null  object        \n",
      " 5   График                           44744 non-null  object        \n",
      " 6   Опыт работы                      44576 non-null  object        \n",
      " 7   Последнее/нынешнее место работы  44743 non-null  object        \n",
      " 8   Последняя/нынешняя должность     44742 non-null  object        \n",
      " 9   Образование и ВУЗ                44744 non-null  object        \n",
      " 10  Обновление резюме                44744 non-null  datetime64[ns]\n",
      " 11  Авто                             44744 non-null  object        \n",
      " 12  Образование                      44744 non-null  category      \n",
      " 13  Пол                              44744 non-null  category      \n",
      " 14  Возраст                          44744 non-null  int64         \n",
      " 15  Опыт работы (месяц)              44574 non-null  float64       \n",
      " 16  Город                            44744 non-null  category      \n",
      " 17  Готовность к переезду            44744 non-null  bool          \n",
      " 18  Готовность к командировкам       44744 non-null  bool          \n",
      " 19  полная занятость                 44744 non-null  bool          \n",
      " 20  частичная занятость              44744 non-null  bool          \n",
      " 21  проектная работа                 44744 non-null  bool          \n",
      " 22  волонтёрство                     44744 non-null  bool          \n",
      " 23  стажировка                       44744 non-null  bool          \n",
      " 24  полный день                      44744 non-null  bool          \n",
      " 25  сменный график                   44744 non-null  bool          \n",
      " 26  гибкий график                    44744 non-null  bool          \n",
      " 27  удалённая работа                 44744 non-null  bool          \n",
      " 28  вахтовый метод                   44744 non-null  bool          \n",
      " 29  Сумма ЗП                         44744 non-null  int64         \n",
      " 30  Валюта ЗП                        44744 non-null  object        \n",
      " 31  currency                         2273 non-null   object        \n",
      " 32  per                              2273 non-null   object        \n",
      " 33  date                             2273 non-null   datetime64[ns]\n",
      " 34  time                             2273 non-null   object        \n",
      " 35  close                            44744 non-null  float64       \n",
      " 36  vol                              2273 non-null   float64       \n",
      " 37  proportion                       44744 non-null  float64       \n",
      " 38  ЗП (руб)                         44744 non-null  float64       \n",
      "dtypes: bool(12), category(3), datetime64[ns](2), float64(5), int64(2), object(15)\n",
      "memory usage: 8.8+ MB\n"
     ]
    },
    {
     "data": {
      "text/plain": [
       "None"
      ]
     },
     "metadata": {},
     "output_type": "display_data"
    }
   ],
   "source": [
    "display(data_project.info())"
   ]
  },
  {
   "cell_type": "code",
   "execution_count": 40,
   "metadata": {},
   "outputs": [],
   "source": [
    "data_project=data_project.drop(['Занятость','График','Пол, возраст','Образование и ВУЗ','Город, переезд, командировки','Опыт работы','ЗП','Сумма ЗП',\"Валюта ЗП\",\"currency\",'per','date','time','close','vol','proportion'],axis=1)"
   ]
  },
  {
   "cell_type": "code",
   "execution_count": 41,
   "metadata": {},
   "outputs": [
    {
     "name": "stdout",
     "output_type": "stream",
     "text": [
      "<class 'pandas.core.frame.DataFrame'>\n",
      "RangeIndex: 44744 entries, 0 to 44743\n",
      "Data columns (total 23 columns):\n",
      " #   Column                           Non-Null Count  Dtype         \n",
      "---  ------                           --------------  -----         \n",
      " 0   Ищет работу на должность:        44744 non-null  object        \n",
      " 1   Последнее/нынешнее место работы  44743 non-null  object        \n",
      " 2   Последняя/нынешняя должность     44742 non-null  object        \n",
      " 3   Обновление резюме                44744 non-null  datetime64[ns]\n",
      " 4   Авто                             44744 non-null  object        \n",
      " 5   Образование                      44744 non-null  category      \n",
      " 6   Пол                              44744 non-null  category      \n",
      " 7   Возраст                          44744 non-null  int64         \n",
      " 8   Опыт работы (месяц)              44574 non-null  float64       \n",
      " 9   Город                            44744 non-null  category      \n",
      " 10  Готовность к переезду            44744 non-null  bool          \n",
      " 11  Готовность к командировкам       44744 non-null  bool          \n",
      " 12  полная занятость                 44744 non-null  bool          \n",
      " 13  частичная занятость              44744 non-null  bool          \n",
      " 14  проектная работа                 44744 non-null  bool          \n",
      " 15  волонтёрство                     44744 non-null  bool          \n",
      " 16  стажировка                       44744 non-null  bool          \n",
      " 17  полный день                      44744 non-null  bool          \n",
      " 18  сменный график                   44744 non-null  bool          \n",
      " 19  гибкий график                    44744 non-null  bool          \n",
      " 20  удалённая работа                 44744 non-null  bool          \n",
      " 21  вахтовый метод                   44744 non-null  bool          \n",
      " 22  ЗП (руб)                         44744 non-null  float64       \n",
      "dtypes: bool(12), category(3), datetime64[ns](1), float64(2), int64(1), object(4)\n",
      "memory usage: 3.4+ MB\n"
     ]
    },
    {
     "data": {
      "text/plain": [
       "None"
      ]
     },
     "metadata": {},
     "output_type": "display_data"
    }
   ],
   "source": [
    "display(data_project.info())"
   ]
  },
  {
   "cell_type": "code",
   "execution_count": 42,
   "metadata": {},
   "outputs": [],
   "source": [
    "data_project.to_csv('data/data_project.csv', sep=\";\", index=False)"
   ]
  },
  {
   "cell_type": "markdown",
   "metadata": {},
   "source": [
    "СТАРТ ЗАДАНИЯ ПОСТРОЕНИЯ ГРАФИКОВ"
   ]
  },
  {
   "cell_type": "code",
   "execution_count": 89,
   "metadata": {},
   "outputs": [],
   "source": [
    "data_project=pd.read_csv('data/data_project.csv', sep=\";\")"
   ]
  },
  {
   "cell_type": "code",
   "execution_count": 64,
   "metadata": {},
   "outputs": [
    {
     "data": {
      "text/html": [
       "<div>\n",
       "<style scoped>\n",
       "    .dataframe tbody tr th:only-of-type {\n",
       "        vertical-align: middle;\n",
       "    }\n",
       "\n",
       "    .dataframe tbody tr th {\n",
       "        vertical-align: top;\n",
       "    }\n",
       "\n",
       "    .dataframe thead th {\n",
       "        text-align: right;\n",
       "    }\n",
       "</style>\n",
       "<table border=\"1\" class=\"dataframe\">\n",
       "  <thead>\n",
       "    <tr style=\"text-align: right;\">\n",
       "      <th></th>\n",
       "      <th>Ищет работу на должность:</th>\n",
       "      <th>Последнее/нынешнее место работы</th>\n",
       "      <th>Последняя/нынешняя должность</th>\n",
       "      <th>Обновление резюме</th>\n",
       "      <th>Авто</th>\n",
       "      <th>Образование</th>\n",
       "      <th>Пол</th>\n",
       "      <th>Возраст</th>\n",
       "      <th>Опыт работы (месяц)</th>\n",
       "      <th>Город</th>\n",
       "      <th>...</th>\n",
       "      <th>частичная занятость</th>\n",
       "      <th>проектная работа</th>\n",
       "      <th>волонтёрство</th>\n",
       "      <th>стажировка</th>\n",
       "      <th>полный день</th>\n",
       "      <th>сменный график</th>\n",
       "      <th>гибкий график</th>\n",
       "      <th>удалённая работа</th>\n",
       "      <th>вахтовый метод</th>\n",
       "      <th>ЗП (руб)</th>\n",
       "    </tr>\n",
       "  </thead>\n",
       "  <tbody>\n",
       "    <tr>\n",
       "      <th>0</th>\n",
       "      <td>Системный администратор</td>\n",
       "      <td>МАОУ \"СОШ № 1 г.Немана\"</td>\n",
       "      <td>Системный администратор</td>\n",
       "      <td>2019-04-16</td>\n",
       "      <td>Имеется собственный автомобиль</td>\n",
       "      <td>неоконченное высшее</td>\n",
       "      <td>М</td>\n",
       "      <td>39</td>\n",
       "      <td>202.0</td>\n",
       "      <td>другие</td>\n",
       "      <td>...</td>\n",
       "      <td>True</td>\n",
       "      <td>True</td>\n",
       "      <td>False</td>\n",
       "      <td>False</td>\n",
       "      <td>True</td>\n",
       "      <td>True</td>\n",
       "      <td>True</td>\n",
       "      <td>False</td>\n",
       "      <td>True</td>\n",
       "      <td>29000.0</td>\n",
       "    </tr>\n",
       "    <tr>\n",
       "      <th>1</th>\n",
       "      <td>Технический писатель</td>\n",
       "      <td>Временный трудовой коллектив</td>\n",
       "      <td>Менеджер проекта, Аналитик, Технический писатель</td>\n",
       "      <td>2019-04-12</td>\n",
       "      <td>Не указано</td>\n",
       "      <td>высшее</td>\n",
       "      <td>М</td>\n",
       "      <td>60</td>\n",
       "      <td>233.0</td>\n",
       "      <td>другие</td>\n",
       "      <td>...</td>\n",
       "      <td>True</td>\n",
       "      <td>True</td>\n",
       "      <td>False</td>\n",
       "      <td>False</td>\n",
       "      <td>True</td>\n",
       "      <td>True</td>\n",
       "      <td>True</td>\n",
       "      <td>False</td>\n",
       "      <td>False</td>\n",
       "      <td>40000.0</td>\n",
       "    </tr>\n",
       "    <tr>\n",
       "      <th>2</th>\n",
       "      <td>Оператор</td>\n",
       "      <td>ПАО Сбербанк</td>\n",
       "      <td>Кассир-операционист</td>\n",
       "      <td>2019-04-16</td>\n",
       "      <td>Не указано</td>\n",
       "      <td>среднее специальное</td>\n",
       "      <td>Ж</td>\n",
       "      <td>36</td>\n",
       "      <td>123.0</td>\n",
       "      <td>другие</td>\n",
       "      <td>...</td>\n",
       "      <td>False</td>\n",
       "      <td>False</td>\n",
       "      <td>False</td>\n",
       "      <td>False</td>\n",
       "      <td>True</td>\n",
       "      <td>False</td>\n",
       "      <td>False</td>\n",
       "      <td>False</td>\n",
       "      <td>False</td>\n",
       "      <td>20000.0</td>\n",
       "    </tr>\n",
       "    <tr>\n",
       "      <th>3</th>\n",
       "      <td>Веб-разработчик (HTML / CSS / JS / PHP / базы ...</td>\n",
       "      <td>OpenSoft</td>\n",
       "      <td>Инженер-программист</td>\n",
       "      <td>2019-04-08</td>\n",
       "      <td>Не указано</td>\n",
       "      <td>высшее</td>\n",
       "      <td>М</td>\n",
       "      <td>38</td>\n",
       "      <td>225.0</td>\n",
       "      <td>другие</td>\n",
       "      <td>...</td>\n",
       "      <td>True</td>\n",
       "      <td>True</td>\n",
       "      <td>False</td>\n",
       "      <td>False</td>\n",
       "      <td>False</td>\n",
       "      <td>False</td>\n",
       "      <td>True</td>\n",
       "      <td>False</td>\n",
       "      <td>False</td>\n",
       "      <td>100000.0</td>\n",
       "    </tr>\n",
       "    <tr>\n",
       "      <th>4</th>\n",
       "      <td>Региональный менеджер по продажам</td>\n",
       "      <td>Мармелад</td>\n",
       "      <td>Менеджер по продажам</td>\n",
       "      <td>2019-04-22</td>\n",
       "      <td>Не указано</td>\n",
       "      <td>высшее</td>\n",
       "      <td>Ж</td>\n",
       "      <td>26</td>\n",
       "      <td>67.0</td>\n",
       "      <td>Москва</td>\n",
       "      <td>...</td>\n",
       "      <td>False</td>\n",
       "      <td>False</td>\n",
       "      <td>False</td>\n",
       "      <td>False</td>\n",
       "      <td>True</td>\n",
       "      <td>False</td>\n",
       "      <td>False</td>\n",
       "      <td>False</td>\n",
       "      <td>False</td>\n",
       "      <td>140000.0</td>\n",
       "    </tr>\n",
       "    <tr>\n",
       "      <th>...</th>\n",
       "      <td>...</td>\n",
       "      <td>...</td>\n",
       "      <td>...</td>\n",
       "      <td>...</td>\n",
       "      <td>...</td>\n",
       "      <td>...</td>\n",
       "      <td>...</td>\n",
       "      <td>...</td>\n",
       "      <td>...</td>\n",
       "      <td>...</td>\n",
       "      <td>...</td>\n",
       "      <td>...</td>\n",
       "      <td>...</td>\n",
       "      <td>...</td>\n",
       "      <td>...</td>\n",
       "      <td>...</td>\n",
       "      <td>...</td>\n",
       "      <td>...</td>\n",
       "      <td>...</td>\n",
       "      <td>...</td>\n",
       "      <td>...</td>\n",
       "    </tr>\n",
       "    <tr>\n",
       "      <th>44739</th>\n",
       "      <td>Финансист, аналитик, экономист, бухгалтер, мен...</td>\n",
       "      <td>ООО \"IAS\" (независимый участник объединения Ru...</td>\n",
       "      <td>Руководитель субгруппы</td>\n",
       "      <td>2019-04-22</td>\n",
       "      <td>Не указано</td>\n",
       "      <td>высшее</td>\n",
       "      <td>М</td>\n",
       "      <td>30</td>\n",
       "      <td>91.0</td>\n",
       "      <td>другие</td>\n",
       "      <td>...</td>\n",
       "      <td>False</td>\n",
       "      <td>False</td>\n",
       "      <td>False</td>\n",
       "      <td>False</td>\n",
       "      <td>True</td>\n",
       "      <td>False</td>\n",
       "      <td>False</td>\n",
       "      <td>False</td>\n",
       "      <td>False</td>\n",
       "      <td>50000.0</td>\n",
       "    </tr>\n",
       "    <tr>\n",
       "      <th>44740</th>\n",
       "      <td>Системный администратор, IT-специалист</td>\n",
       "      <td>ИП Пестрецов</td>\n",
       "      <td>Предприниматель</td>\n",
       "      <td>2019-04-22</td>\n",
       "      <td>Не указано</td>\n",
       "      <td>высшее</td>\n",
       "      <td>М</td>\n",
       "      <td>27</td>\n",
       "      <td>84.0</td>\n",
       "      <td>другие</td>\n",
       "      <td>...</td>\n",
       "      <td>True</td>\n",
       "      <td>True</td>\n",
       "      <td>False</td>\n",
       "      <td>False</td>\n",
       "      <td>True</td>\n",
       "      <td>True</td>\n",
       "      <td>True</td>\n",
       "      <td>False</td>\n",
       "      <td>False</td>\n",
       "      <td>39000.0</td>\n",
       "    </tr>\n",
       "    <tr>\n",
       "      <th>44741</th>\n",
       "      <td>Аналитик данных, Математик</td>\n",
       "      <td>ОАО «ЧМК», Исследовательско-Технологический Це...</td>\n",
       "      <td>Начальник группы аналитики</td>\n",
       "      <td>2019-04-09</td>\n",
       "      <td>Не указано</td>\n",
       "      <td>высшее</td>\n",
       "      <td>Ж</td>\n",
       "      <td>48</td>\n",
       "      <td>257.0</td>\n",
       "      <td>город-миллионник</td>\n",
       "      <td>...</td>\n",
       "      <td>False</td>\n",
       "      <td>False</td>\n",
       "      <td>False</td>\n",
       "      <td>False</td>\n",
       "      <td>True</td>\n",
       "      <td>False</td>\n",
       "      <td>False</td>\n",
       "      <td>False</td>\n",
       "      <td>False</td>\n",
       "      <td>40000.0</td>\n",
       "    </tr>\n",
       "    <tr>\n",
       "      <th>44742</th>\n",
       "      <td>Контент-менеджер</td>\n",
       "      <td>IQ-Maxima</td>\n",
       "      <td>Менеджер проектов</td>\n",
       "      <td>2019-04-26</td>\n",
       "      <td>Имеется собственный автомобиль</td>\n",
       "      <td>высшее</td>\n",
       "      <td>М</td>\n",
       "      <td>24</td>\n",
       "      <td>46.0</td>\n",
       "      <td>другие</td>\n",
       "      <td>...</td>\n",
       "      <td>True</td>\n",
       "      <td>False</td>\n",
       "      <td>False</td>\n",
       "      <td>False</td>\n",
       "      <td>False</td>\n",
       "      <td>False</td>\n",
       "      <td>False</td>\n",
       "      <td>False</td>\n",
       "      <td>False</td>\n",
       "      <td>20000.0</td>\n",
       "    </tr>\n",
       "    <tr>\n",
       "      <th>44743</th>\n",
       "      <td>Руководитель проекта</td>\n",
       "      <td>ПАО ГК ТНС энерго</td>\n",
       "      <td>Руководитель отдела технической поддержки</td>\n",
       "      <td>2018-07-05</td>\n",
       "      <td>Не указано</td>\n",
       "      <td>высшее</td>\n",
       "      <td>М</td>\n",
       "      <td>38</td>\n",
       "      <td>190.0</td>\n",
       "      <td>Москва</td>\n",
       "      <td>...</td>\n",
       "      <td>False</td>\n",
       "      <td>False</td>\n",
       "      <td>False</td>\n",
       "      <td>False</td>\n",
       "      <td>True</td>\n",
       "      <td>False</td>\n",
       "      <td>False</td>\n",
       "      <td>False</td>\n",
       "      <td>False</td>\n",
       "      <td>120000.0</td>\n",
       "    </tr>\n",
       "  </tbody>\n",
       "</table>\n",
       "<p>44744 rows × 23 columns</p>\n",
       "</div>"
      ],
      "text/plain": [
       "                               Ищет работу на должность:  \\\n",
       "0                                Системный администратор   \n",
       "1                                   Технический писатель   \n",
       "2                                               Оператор   \n",
       "3      Веб-разработчик (HTML / CSS / JS / PHP / базы ...   \n",
       "4                      Региональный менеджер по продажам   \n",
       "...                                                  ...   \n",
       "44739  Финансист, аналитик, экономист, бухгалтер, мен...   \n",
       "44740             Системный администратор, IT-специалист   \n",
       "44741                         Аналитик данных, Математик   \n",
       "44742                                   Контент-менеджер   \n",
       "44743                               Руководитель проекта   \n",
       "\n",
       "                         Последнее/нынешнее место работы  \\\n",
       "0                                МАОУ \"СОШ № 1 г.Немана\"   \n",
       "1                           Временный трудовой коллектив   \n",
       "2                                           ПАО Сбербанк   \n",
       "3                                               OpenSoft   \n",
       "4                                               Мармелад   \n",
       "...                                                  ...   \n",
       "44739  ООО \"IAS\" (независимый участник объединения Ru...   \n",
       "44740                                       ИП Пестрецов   \n",
       "44741  ОАО «ЧМК», Исследовательско-Технологический Це...   \n",
       "44742                                          IQ-Maxima   \n",
       "44743                                  ПАО ГК ТНС энерго   \n",
       "\n",
       "                           Последняя/нынешняя должность Обновление резюме  \\\n",
       "0                               Системный администратор        2019-04-16   \n",
       "1      Менеджер проекта, Аналитик, Технический писатель        2019-04-12   \n",
       "2                                   Кассир-операционист        2019-04-16   \n",
       "3                                   Инженер-программист        2019-04-08   \n",
       "4                                  Менеджер по продажам        2019-04-22   \n",
       "...                                                 ...               ...   \n",
       "44739                            Руководитель субгруппы        2019-04-22   \n",
       "44740                                   Предприниматель        2019-04-22   \n",
       "44741                        Начальник группы аналитики        2019-04-09   \n",
       "44742                                 Менеджер проектов        2019-04-26   \n",
       "44743         Руководитель отдела технической поддержки        2018-07-05   \n",
       "\n",
       "                                 Авто          Образование Пол  Возраст  \\\n",
       "0      Имеется собственный автомобиль  неоконченное высшее   М       39   \n",
       "1                          Не указано               высшее   М       60   \n",
       "2                          Не указано  среднее специальное   Ж       36   \n",
       "3                          Не указано               высшее   М       38   \n",
       "4                          Не указано               высшее   Ж       26   \n",
       "...                               ...                  ...  ..      ...   \n",
       "44739                      Не указано               высшее   М       30   \n",
       "44740                      Не указано               высшее   М       27   \n",
       "44741                      Не указано               высшее   Ж       48   \n",
       "44742  Имеется собственный автомобиль               высшее   М       24   \n",
       "44743                      Не указано               высшее   М       38   \n",
       "\n",
       "       Опыт работы (месяц)             Город  ...  частичная занятость  \\\n",
       "0                    202.0            другие  ...                 True   \n",
       "1                    233.0            другие  ...                 True   \n",
       "2                    123.0            другие  ...                False   \n",
       "3                    225.0            другие  ...                 True   \n",
       "4                     67.0            Москва  ...                False   \n",
       "...                    ...               ...  ...                  ...   \n",
       "44739                 91.0            другие  ...                False   \n",
       "44740                 84.0            другие  ...                 True   \n",
       "44741                257.0  город-миллионник  ...                False   \n",
       "44742                 46.0            другие  ...                 True   \n",
       "44743                190.0            Москва  ...                False   \n",
       "\n",
       "       проектная работа  волонтёрство  стажировка  полный день  \\\n",
       "0                  True         False       False         True   \n",
       "1                  True         False       False         True   \n",
       "2                 False         False       False         True   \n",
       "3                  True         False       False        False   \n",
       "4                 False         False       False         True   \n",
       "...                 ...           ...         ...          ...   \n",
       "44739             False         False       False         True   \n",
       "44740              True         False       False         True   \n",
       "44741             False         False       False         True   \n",
       "44742             False         False       False        False   \n",
       "44743             False         False       False         True   \n",
       "\n",
       "       сменный график  гибкий график  удалённая работа  вахтовый метод  \\\n",
       "0                True           True             False            True   \n",
       "1                True           True             False           False   \n",
       "2               False          False             False           False   \n",
       "3               False           True             False           False   \n",
       "4               False          False             False           False   \n",
       "...               ...            ...               ...             ...   \n",
       "44739           False          False             False           False   \n",
       "44740            True           True             False           False   \n",
       "44741           False          False             False           False   \n",
       "44742           False          False             False           False   \n",
       "44743           False          False             False           False   \n",
       "\n",
       "       ЗП (руб)  \n",
       "0       29000.0  \n",
       "1       40000.0  \n",
       "2       20000.0  \n",
       "3      100000.0  \n",
       "4      140000.0  \n",
       "...         ...  \n",
       "44739   50000.0  \n",
       "44740   39000.0  \n",
       "44741   40000.0  \n",
       "44742   20000.0  \n",
       "44743  120000.0  \n",
       "\n",
       "[44744 rows x 23 columns]"
      ]
     },
     "metadata": {},
     "output_type": "display_data"
    }
   ],
   "source": [
    "display(data_project)"
   ]
  },
  {
   "cell_type": "code",
   "execution_count": 27,
   "metadata": {},
   "outputs": [
    {
     "name": "stderr",
     "output_type": "stream",
     "text": [
      "C:\\Users\\serge\\AppData\\Local\\Temp\\ipykernel_9648\\2443423209.py:7: FutureWarning: Calling int on a single element Series is deprecated and will raise a TypeError in the future. Use int(ser.iloc[0]) instead\n",
      "  display('Модальное значение возраста соискателей '+str(int(data_project['Возраст'].mode()))+' лет')\n"
     ]
    },
    {
     "data": {
      "text/plain": [
       "'Модальное значение возраста соискателей 30 лет'"
      ]
     },
     "metadata": {},
     "output_type": "display_data"
    },
    {
     "data": {
      "text/plain": [
       "'Минимальный возраст соискателя 14 лет'"
      ]
     },
     "metadata": {},
     "output_type": "display_data"
    },
    {
     "data": {
      "text/plain": [
       "'Максимальный возраст соискателя 100 лет'"
      ]
     },
     "metadata": {},
     "output_type": "display_data"
    },
    {
     "data": {
      "image/png": "[encoded data removed]",
      "text/plain": [
       "<Figure size 2000x400 with 2 Axes>"
      ]
     },
     "metadata": {},
     "output_type": "display_data"
    }
   ],
   "source": [
    "# Создаем координатные оси\n",
    "fig, axes = plt.subplots(nrows=1, ncols=2, figsize=(20, 4))\n",
    "# Строим графики\n",
    "axes[0].hist(x=data_project['Возраст'], bins=15, color='blue',range=(10,80));\n",
    "axes[1].boxplot(x=data_project['Возраст'], vert=False);\n",
    "# Выводим статистические данные\n",
    "display('Модальное значение возраста соискателей '+str(int(data_project['Возраст'].mode()))+' лет')\n",
    "display(\"Минимальный возраст соискателя \"+str(int(data_project['Возраст'].min()))+' лет')\n",
    "display(\"Максимальный возраст соискателя \"+str(int(data_project['Возраст'].max()))+' лет')"
   ]
  },
  {
   "cell_type": "markdown",
   "metadata": {},
   "source": [
    "Согласно полученных результатов анализа мода распределения возраста соискателей это 30 лет, возраст большинства соискателей в пределах 25-35 лет, минимальное и максимальное значения признака возраста это 14 и 100 лет соответственно. Среди аномалий можно отметить резюме с указанным возрастом 100 лет, так как оно выходит далеко за пределы доверительного интервала распределения возраста и лежит обособленно от других значений."
   ]
  },
  {
   "cell_type": "code",
   "execution_count": 28,
   "metadata": {},
   "outputs": [
    {
     "name": "stderr",
     "output_type": "stream",
     "text": [
      "C:\\Users\\serge\\AppData\\Local\\Temp\\ipykernel_9648\\3916162669.py:10: FutureWarning: Calling int on a single element Series is deprecated and will raise a TypeError in the future. Use int(ser.iloc[0]) instead\n",
      "  display('Модальное значение опыта работы соискателя '+str(int(data_project['Опыт работы (месяц)'].mode()))+' месяц')\n"
     ]
    },
    {
     "data": {
      "text/plain": [
       "'Модальное значение опыта работы соискателя 81 месяц'"
      ]
     },
     "metadata": {},
     "output_type": "display_data"
    },
    {
     "data": {
      "text/plain": [
       "'Минимальный опыт работы соискателя 1 месяц'"
      ]
     },
     "metadata": {},
     "output_type": "display_data"
    },
    {
     "data": {
      "text/plain": [
       "'Максимальный опыт работы соискателя 1188 месяцев'"
      ]
     },
     "metadata": {},
     "output_type": "display_data"
    },
    {
     "data": {
      "image/png": "[encoded data removed]",
      "text/plain": [
       "<Figure size 2000x400 with 2 Axes>"
      ]
     },
     "metadata": {},
     "output_type": "display_data"
    }
   ],
   "source": [
    "# Создаем координатные оси\n",
    "fig, axes = plt.subplots(nrows=1, ncols=2, figsize=(20, 4))\n",
    "axes[1].set_xticks(range(0,1300,100))\n",
    "# Графа \"Опыт работы (месяц)\" имеет пропуски, поэтому длоя корректного построения графика необходимо это учесть:\n",
    "data_project_experience=data_project[data_project['Опыт работы (месяц)']>0]\n",
    "# Строим графики\n",
    "axes[0].hist(x=data_project_experience['Опыт работы (месяц)'], bins=40, color='blue');\n",
    "axes[1].boxplot(x=data_project_experience['Опыт работы (месяц)'], vert=False)\n",
    "# Выводим статистические данные\n",
    "display('Модальное значение опыта работы соискателя '+str(int(data_project['Опыт работы (месяц)'].mode()))+' месяц')\n",
    "display(\"Минимальный опыт работы соискателя \"+str(int(data_project['Опыт работы (месяц)'].min()))+' месяц')\n",
    "display(\"Максимальный опыт работы соискателя \"+str(int(data_project['Опыт работы (месяц)'].max()))+' месяцев')"
   ]
  },
  {
   "cell_type": "markdown",
   "metadata": {},
   "source": [
    "Согласно полученных результатов анализа мода распределения опыта соискателей это 81 месяц, опыт большинства соискателей в пределах от 50 до 150 месяцев, минимальное и максимальное значения признака возраста это 1 и 1188 месяцев соответственно. Среди аномалий можно отметить резюме с указанным опытом работы 1188 месяцев, так как оно является явной ложью (в предыдущем задании было резюме с возрастом 100 лет, а указанный опыт работы (1188 месяцев) говорит о 99 летнем стаже, что является явным \"преувеличением\")."
   ]
  },
  {
   "cell_type": "code",
   "execution_count": 29,
   "metadata": {},
   "outputs": [
    {
     "name": "stderr",
     "output_type": "stream",
     "text": [
      "C:\\Users\\serge\\AppData\\Local\\Temp\\ipykernel_9648\\2181514284.py:7: FutureWarning: Calling int on a single element Series is deprecated and will raise a TypeError in the future. Use int(ser.iloc[0]) instead\n",
      "  display('Модальный запрос ЗП '+str(int(data_project['ЗП (руб)'].mode()))+' руб')\n"
     ]
    },
    {
     "data": {
      "text/plain": [
       "'Модальный запрос ЗП 50000 руб'"
      ]
     },
     "metadata": {},
     "output_type": "display_data"
    },
    {
     "data": {
      "text/plain": [
       "'Минимальный запрос ЗП 1 руб'"
      ]
     },
     "metadata": {},
     "output_type": "display_data"
    },
    {
     "data": {
      "text/plain": [
       "'Максимальный запрос ЗП 24304876 руб'"
      ]
     },
     "metadata": {},
     "output_type": "display_data"
    },
    {
     "data": {
      "text/plain": [
       "'Количество запросов ЗП свыше 1 миллиона руб: 5'"
      ]
     },
     "metadata": {},
     "output_type": "display_data"
    },
    {
     "data": {
      "image/png": "[encoded data removed]",
      "text/plain": [
       "<Figure size 2000x400 with 2 Axes>"
      ]
     },
     "metadata": {},
     "output_type": "display_data"
    }
   ],
   "source": [
    "# Создаем координатные оси\n",
    "fig, axes = plt.subplots(nrows=1, ncols=2, figsize=(20, 4))\n",
    "# Строим графики\n",
    "axes[0].hist(x=data_project['ЗП (руб)'], bins=30, color='blue', range=[0,400000]);\n",
    "axes[1].boxplot(x=data_project['ЗП (руб)'], vert=False);\n",
    "# Выводим статистические данные\n",
    "display('Модальный запрос ЗП '+str(int(data_project['ЗП (руб)'].mode()))+' руб')\n",
    "display(\"Минимальный запрос ЗП \"+str(int(data_project['ЗП (руб)'].min()))+' руб')\n",
    "display(\"Максимальный запрос ЗП \"+str(int(data_project['ЗП (руб)'].max()))+' руб')\n",
    "display('Количество запросов ЗП свыше 1 миллиона руб: '+ \n",
    "        str(int(data_project[data_project['ЗП (руб)']>1000000].shape[0])))"
   ]
  },
  {
   "cell_type": "markdown",
   "metadata": {},
   "source": [
    "Согласно полученным результатам анализа мода распределения запроса ЗП от соискателей это 50000 рублей, запрос большинства соискателей в пределах 40-50 тыс. рублей, минимальное и максимальное значения запроса ЗП  это 1 рубль и 24304876 рублей соответственно. Среди аномалий можно выделить резюме с указанным запросом ЗП свыше 500000 руб (средняя ЗП высококлассного специалиста в России составляет 250000 руб)."
   ]
  },
  {
   "cell_type": "code",
   "execution_count": 30,
   "metadata": {},
   "outputs": [
    {
     "data": {
      "image/png": "[encoded data removed]",
      "text/plain": [
       "<Figure size 640x480 with 1 Axes>"
      ]
     },
     "metadata": {},
     "output_type": "display_data"
    }
   ],
   "source": [
    "fig_plot=data_project[data_project['ЗП (руб)']<1000000].groupby('Образование')['ЗП (руб)'].median()\n",
    "fig_plot.plot(kind='bar',x='ЗП (руб)', y='Образование', grid=True, legend=True, xlabel='');"
   ]
  },
  {
   "cell_type": "markdown",
   "metadata": {},
   "source": [
    "Уровень образования, указанный в резюме - один из важных признаков для прогнозирования заработной платы при устройстве на работу. Наибольший уровень медианной желаемой заработной платы у резюме с признаком \"высшее образование\" (60000 руб). Минимальный уровень медианной желаемой заработной платы у резюме с признаками \"среднее образование\" и \"среднее специальное образование\"(40000 руб)."
   ]
  },
  {
   "cell_type": "code",
   "execution_count": 31,
   "metadata": {},
   "outputs": [
    {
     "data": {
      "image/png": "[encoded data removed]",
      "text/plain": [
       "<Figure size 640x480 with 1 Axes>"
      ]
     },
     "metadata": {},
     "output_type": "display_data"
    }
   ],
   "source": [
    "boxplot = sns.boxplot(\n",
    "    data=data_project[data_project['ЗП (руб)']<1000000],\n",
    "    x='ЗП (руб)',\n",
    "    y=\"Город\",\n",
    "    orient='h',\n",
    "    width=0.9\n",
    ");\n",
    "boxplot.set_title('Распределение желаемой ЗП по городам');\n",
    "boxplot.grid()"
   ]
  },
  {
   "cell_type": "markdown",
   "metadata": {},
   "source": [
    "Город, указанный в резюме - также один из важных признаков для прогнозирования заработной платы при устройстве на работу (средняя ЗП по региону накладывает свои ограничения). В Москве, в отличие от других городов, наиболее высокая медианная зарплата, а также высокий 75% квантиль по ЗП и верхний доверительный предел.  "
   ]
  },
  {
   "cell_type": "code",
   "execution_count": 32,
   "metadata": {},
   "outputs": [
    {
     "data": {
      "image/png": "[encoded data removed]",
      "text/plain": [
       "<Figure size 640x480 with 1 Axes>"
      ]
     },
     "metadata": {},
     "output_type": "display_data"
    }
   ],
   "source": [
    "df_fig=data_project.groupby([\"Готовность к командировкам\",'Готовность к переезду'])['ЗП (руб)'].median()\n",
    "df_fig.plot(kind = \"bar\", grid=True);"
   ]
  },
  {
   "cell_type": "markdown",
   "metadata": {},
   "source": [
    "Согласно графика, наибольшая медианная желаемая заработная плата среи тех слискателей, кто готов и к командировкам и к переезду; на втором месте люди готовые к командировкам, но не готовые к переезду; на третьем месте по величине медианной заработной платы люди котовые к переездам, но не готовые к командировкам; самая низкая медианная желаемая заработная плата среди людей не готовых к переездам и командировкам."
   ]
  },
  {
   "cell_type": "code",
   "execution_count": 33,
   "metadata": {},
   "outputs": [
    {
     "data": {
      "image/png": "[encoded data removed]",
      "text/plain": [
       "<Figure size 640x480 with 2 Axes>"
      ]
     },
     "metadata": {},
     "output_type": "display_data"
    }
   ],
   "source": [
    "df_heatmap=data_project.pivot_table(\n",
    "    values='ЗП (руб)',\n",
    "    index='Возраст',\n",
    "    columns='Образование',\n",
    "    aggfunc='median'\n",
    ")\n",
    "heatmap = sns.heatmap(data=df_heatmap, cmap='YlGnBu')\n"
   ]
  },
  {
   "cell_type": "markdown",
   "metadata": {},
   "source": [
    "Судя по тепловой карте медианная желаемая заработная плата выше в группах среднего  и неоконченного высшего образования. Также согласно графика наиболее высокие меианные желаемые заработные платы указаны у людей возраста 38-42 лет.\n"
   ]
  },
  {
   "cell_type": "code",
   "execution_count": 34,
   "metadata": {},
   "outputs": [
    {
     "data": {
      "image/png": "[encoded data removed]",
      "text/plain": [
       "<Figure size 400x400 with 1 Axes>"
      ]
     },
     "metadata": {},
     "output_type": "display_data"
    }
   ],
   "source": [
    "data_project['Опыт работы (год)']=data_project['Опыт работы (месяц)']/12\n",
    "fig = plt.figure(figsize=(4, 4))\n",
    "axes = fig.add_axes([0, 0, 1, 1])\n",
    "axes.scatter(\n",
    "    x=data_project['Возраст'], \n",
    "    y=data_project['Опыт работы (год)'], \n",
    "    marker='o',\n",
    "    s=10,\n",
    "    c = 'blue'\n",
    ");\n",
    "axes.plot([0,100], [0,100], color='red');\n",
    "axes.set_xlabel('Возраст');\n",
    "axes.set_ylabel('Опыт рабооты (лет)');\n",
    "axes.set_title('Зависимость опыта работы от возраста');\n"
   ]
  },
  {
   "cell_type": "markdown",
   "metadata": {},
   "source": [
    "Согласно диаграммы распределения 7 точек лежат выше прямой, проходящей через (0,0) и (100,100), что говворит о наличии в данных как минимум 7 аномалий (опыт работы больше чем вораст)."
   ]
  },
  {
   "cell_type": "code",
   "execution_count": 6,
   "metadata": {},
   "outputs": [],
   "source": [
    "data_project=pd.read_csv('data/data_project.csv', sep=\";\")"
   ]
  },
  {
   "cell_type": "markdown",
   "metadata": {},
   "source": [
    "СТАРТ ОЧИСТКИ ДАННЫХ"
   ]
  },
  {
   "cell_type": "code",
   "execution_count": 8,
   "metadata": {},
   "outputs": [
    {
     "data": {
      "text/plain": [
       "161"
      ]
     },
     "metadata": {},
     "output_type": "display_data"
    }
   ],
   "source": [
    "# Создаем маску на дубликаты\n",
    "mask_dupl=data_project.duplicated()\n",
    "# Выводим количество дубликатов \n",
    "display(data_project[mask_dupl].shape[0])\n",
    "# Убираем дубликаты\n",
    "data_project=data_project.drop_duplicates()"
   ]
  },
  {
   "cell_type": "code",
   "execution_count": 9,
   "metadata": {},
   "outputs": [
    {
     "data": {
      "text/plain": [
       "Последнее/нынешнее место работы    0.002243\n",
       "Последняя/нынешняя должность       0.004486\n",
       "Опыт работы (месяц)                0.376825\n",
       "dtype: float64"
      ]
     },
     "metadata": {},
     "output_type": "display_data"
    },
    {
     "data": {
      "text/plain": [
       "Опыт работы (месяц)\n",
       "False    44415\n",
       "True       168\n",
       "Name: count, dtype: int64"
      ]
     },
     "metadata": {},
     "output_type": "display_data"
    }
   ],
   "source": [
    "# Находим столбцы с пропущенными значениями\n",
    "null_columns=data_project.isnull().mean()*100\n",
    "# Выводим названия столбцов с пропущенными значениями\n",
    "display(null_columns[null_columns>0])\n",
    "# Выводим количество пропущенных значений в графе \"Опыт работы (месяц)\"\n",
    "display(data_project['Опыт работы (месяц)'].isnull().value_counts())"
   ]
  },
  {
   "cell_type": "code",
   "execution_count": 10,
   "metadata": {},
   "outputs": [
    {
     "name": "stdout",
     "output_type": "stream",
     "text": [
      "114\n"
     ]
    }
   ],
   "source": [
    "# Находим строки с пропусками в столбцах 'Последнее/нынешнее место работы' и \"Последняя/нынешняя должность\"\n",
    "drop_pass=data_project[data_project['Последнее/нынешнее место работы'].isnull() |\n",
    "                        data_project['Последняя/нынешняя должность'].isnull()]\n",
    "# Извлекаем их индексы в список\n",
    "index_drop=list(drop_pass.index)\n",
    "# Удаляем строки с этими индексами\n",
    "data_project=data_project.drop(index=index_drop)\n",
    "# Заполняем пропуски в графе \"Опыт работы (месяц)\" медианным значением\n",
    "data_project['Опыт работы (месяц)']=data_project['Опыт работы (месяц)'].fillna(data_project['Опыт работы (месяц)'].median())\n",
    "# Выведем результирующее среднее значение в графе \"Опыт работы (месяц)\"\n",
    "print(round(data_project['Опыт работы (месяц)'].mean()))"
   ]
  },
  {
   "cell_type": "code",
   "execution_count": 11,
   "metadata": {},
   "outputs": [
    {
     "data": {
      "text/plain": [
       "89"
      ]
     },
     "metadata": {},
     "output_type": "display_data"
    }
   ],
   "source": [
    "# Находим резюме с ЗП выше 1 миллиона рублей и ниже 1 тысячи рублей.\n",
    "condition_million=data_project['ЗП (руб)']>1000000\n",
    "condition_thousand=data_project['ЗП (руб)']<1000\n",
    "anomaly_salary=data_project[condition_thousand | condition_million]\n",
    "# Выводим количество аномальных по ЗП резюме\n",
    "display(anomaly_salary.shape[0])\n",
    "# Находим индексы этих резюме\n",
    "index_anomaly_salary=list(anomaly_salary.index)\n",
    "# Удаляем строки с этими индексами\n",
    "data_project=data_project.drop(index=index_anomaly_salary)\n"
   ]
  },
  {
   "cell_type": "code",
   "execution_count": 12,
   "metadata": {},
   "outputs": [],
   "source": [
    "# Создаем Series с опытом работы в годах\n",
    "experience_work=round(data_project[\"Опыт работы (месяц)\"]/12, 2)\n",
    "# Находим резюме с возрастом меньше опыта работы в годах\n",
    "unrealistic_resumes=data_project[data_project['Возраст']<experience_work]\n",
    "# Находим их индексы и удаляем\n",
    "index_unrealistic_resumes=list(unrealistic_resumes.index)\n",
    "data_project=data_project.drop(index=index_unrealistic_resumes)"
   ]
  },
  {
   "cell_type": "code",
   "execution_count": 21,
   "metadata": {},
   "outputs": [
    {
     "name": "stdout",
     "output_type": "stream",
     "text": [
      "3\n"
     ]
    },
    {
     "data": {
      "image/png": "[encoded data removed]",
      "text/plain": [
       "<Figure size 800x400 with 1 Axes>"
      ]
     },
     "metadata": {},
     "output_type": "display_data"
    }
   ],
   "source": [
    "# Строим распределение признака \"Возраст\" в логарифмическом масштабе\n",
    "fig, ax = plt.subplots(1, 1, figsize=(8, 4))\n",
    "log_age = np.log(data_project['Возраст'] + 1)\n",
    "age_hist = sns.histplot(log_age, bins=30, ax=ax)\n",
    "age_hist.axvline(log_age.mean(), color='k', lw=2)\n",
    "age_hist.axvline(log_age.mean()+ 4 *log_age.std(), color='k', ls='--', lw=2)\n",
    "age_hist.axvline(log_age.mean()- 3 *log_age.std(), color='k', ls='--', lw=2)\n",
    "age_hist.set_title('Распределение возраста в логарифмическом масштабе');\n",
    "\n",
    "# Создаем функцию для расчета \"сигм\"\n",
    "def outliers_z_score_mod(data, feature, left=3, right=3, log_scale=False):\n",
    "    if log_scale:\n",
    "        x = np.log(data[feature]+1)\n",
    "    else:\n",
    "        x = data[feature]\n",
    "    mu = x.mean()\n",
    "    sigma = x.std()\n",
    "    lower_bound = mu - left * sigma\n",
    "    upper_bound = mu + right * sigma\n",
    "    outliers = data[(x < lower_bound) | (x > upper_bound)]\n",
    "    cleaned = data[(x >= lower_bound) & (x <= upper_bound)]\n",
    "    return outliers, cleaned\n",
    "# Находим количество отклонений по методу \"сигм\"\n",
    "outliers, cleaned_data = outliers_z_score_mod(data_project, 'Возраст', left=3,  right=4, log_scale=True)\n",
    "print(outliers.shape[0])"
   ]
  }
 ],
 "metadata": {
  "kernelspec": {
   "display_name": "Python 3",
   "language": "python",
   "name": "python3"
  },
  "language_info": {
   "codemirror_mode": {
    "name": "ipython",
    "version": 3
   },
   "file_extension": ".py",
   "mimetype": "text/x-python",
   "name": "python",
   "nbconvert_exporter": "python",
   "pygments_lexer": "ipython3",
   "version": "3.10.4"
  }
 },
 "nbformat": 4,
 "nbformat_minor": 2
}
